{
 "cells": [
  {
   "cell_type": "code",
   "execution_count": 1,
   "id": "6b3ec857-900a-4d51-9136-75f3880c727f",
   "metadata": {},
   "outputs": [],
   "source": [
    "from qiskit_ibm_runtime.fake_provider import FakeSherbrooke\n",
    "\n",
    "backend = FakeSherbrooke()\n",
    "coupling_map = backend.coupling_map"
   ]
  },
  {
   "cell_type": "code",
   "execution_count": null,
   "id": "92612eff-e570-45a0-be1c-16d22dfa9690",
   "metadata": {},
   "outputs": [],
   "source": [
    "import time\n",
    "import numpy as np\n",
    "from collections import defaultdict\n",
    "from qiskit import QuantumCircuit\n",
    "from qiskit.quantum_info import Pauli, SparsePauliOp\n",
    "from qiskit_addon_utils.coloring import auto_color_edges\n",
    "from pauli_propagation.propagation import propagate_through_circuit\n",
    "\n",
    "# Num Trotter steps\n",
    "num_steps = 20\n",
    "\n",
    "# Set observable\n",
    "id_pauli = Pauli(\"I\" * backend.num_qubits)\n",
    "observable = SparsePauliOp(id_pauli.dot(Pauli(\"Z\"), [62]))\n",
    "\n",
    "# Get a depth-efficient edge coloring\n",
    "coloring = auto_color_edges(coupling_map)\n",
    "color_to_edge = defaultdict(list)\n",
    "for edge, color in coloring.items():\n",
    "    color_to_edge[color].append(edge)\n",
    "\n",
    "# Vary rotation angles\n",
    "hs = [i * np.pi / 32 for i in range(17)]\n",
    "approx_evs = []\n",
    "norms = []\n",
    "times = []\n",
    "for h in hs:\n",
    "    circuit = QuantumCircuit(backend.num_qubits)\n",
    "    for _ in range(num_steps):\n",
    "        circuit.rx(h, [i for i in range(backend.num_qubits)])\n",
    "        for edges in color_to_edge.values():\n",
    "            for edge in edges:\n",
    "                circuit.rzz(-np.pi / 2, edge[0], edge[1])\n",
    "    st = time.time()\n",
    "    propagated_obs, norm = propagate_through_circuit(observable, circuit, 100_000, 1e-12, frame='h')\n",
    "    times.append(time.time() - st)\n",
    "    approx_evs.append(float(propagated_obs.coeffs[~propagated_obs.paulis.x.any(axis=1)].sum()))\n",
    "    norms.append(norm)"
   ]
  },
  {
   "cell_type": "code",
   "execution_count": null,
   "id": "01a3e294-f5c3-485c-b027-a14d9a6384c9",
   "metadata": {},
   "outputs": [],
   "source": [
    "import matplotlib.pyplot as plt\n",
    "\n",
    "plt.xlabel(r\"$R_x$ angle $\\theta_h$\")\n",
    "plt.title(r\"$\\langle Z_{62} \\rangle$\")\n",
    "plt.plot(hs, approx_evs, marker='o')"
   ]
  }
 ],
 "metadata": {
  "kernelspec": {
   "display_name": "Python 3 (ipykernel)",
   "language": "python",
   "name": "python3"
  },
  "language_info": {
   "codemirror_mode": {
    "name": "ipython",
    "version": 3
   },
   "file_extension": ".py",
   "mimetype": "text/x-python",
   "name": "python",
   "nbconvert_exporter": "python",
   "pygments_lexer": "ipython3",
   "version": "3.12.9"
  }
 },
 "nbformat": 4,
 "nbformat_minor": 5
}
